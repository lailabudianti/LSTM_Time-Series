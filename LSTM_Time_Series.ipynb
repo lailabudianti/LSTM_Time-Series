{
  "nbformat": 4,
  "nbformat_minor": 0,
  "metadata": {
    "colab": {
      "provenance": [],
      "authorship_tag": "ABX9TyOlB8tgY1Z2+Lz2bTt3Unk7"
    },
    "kernelspec": {
      "name": "python3",
      "display_name": "Python 3"
    },
    "language_info": {
      "name": "python"
    }
  },
  "cells": [
    {
      "cell_type": "markdown",
      "source": [
        "###Download Dataset dari Kaggle"
      ],
      "metadata": {
        "id": "oIgP9p1rZI65"
      }
    },
    {
      "cell_type": "code",
      "execution_count": null,
      "metadata": {
        "colab": {
          "base_uri": "https://localhost:8080/",
          "height": 178
        },
        "id": "zE-2WnDJklcj",
        "outputId": "833c582a-9b1e-427a-8cfa-2256663d3465"
      },
      "outputs": [
        {
          "output_type": "display_data",
          "data": {
            "text/plain": [
              "<IPython.core.display.HTML object>"
            ],
            "text/html": [
              "\n",
              "     <input type=\"file\" id=\"files-e25449e1-cb56-4118-8602-6b650a13f35c\" name=\"files[]\" multiple disabled\n",
              "        style=\"border:none\" />\n",
              "     <output id=\"result-e25449e1-cb56-4118-8602-6b650a13f35c\">\n",
              "      Upload widget is only available when the cell has been executed in the\n",
              "      current browser session. Please rerun this cell to enable.\n",
              "      </output>\n",
              "      <script>// Copyright 2017 Google LLC\n",
              "//\n",
              "// Licensed under the Apache License, Version 2.0 (the \"License\");\n",
              "// you may not use this file except in compliance with the License.\n",
              "// You may obtain a copy of the License at\n",
              "//\n",
              "//      http://www.apache.org/licenses/LICENSE-2.0\n",
              "//\n",
              "// Unless required by applicable law or agreed to in writing, software\n",
              "// distributed under the License is distributed on an \"AS IS\" BASIS,\n",
              "// WITHOUT WARRANTIES OR CONDITIONS OF ANY KIND, either express or implied.\n",
              "// See the License for the specific language governing permissions and\n",
              "// limitations under the License.\n",
              "\n",
              "/**\n",
              " * @fileoverview Helpers for google.colab Python module.\n",
              " */\n",
              "(function(scope) {\n",
              "function span(text, styleAttributes = {}) {\n",
              "  const element = document.createElement('span');\n",
              "  element.textContent = text;\n",
              "  for (const key of Object.keys(styleAttributes)) {\n",
              "    element.style[key] = styleAttributes[key];\n",
              "  }\n",
              "  return element;\n",
              "}\n",
              "\n",
              "// Max number of bytes which will be uploaded at a time.\n",
              "const MAX_PAYLOAD_SIZE = 100 * 1024;\n",
              "\n",
              "function _uploadFiles(inputId, outputId) {\n",
              "  const steps = uploadFilesStep(inputId, outputId);\n",
              "  const outputElement = document.getElementById(outputId);\n",
              "  // Cache steps on the outputElement to make it available for the next call\n",
              "  // to uploadFilesContinue from Python.\n",
              "  outputElement.steps = steps;\n",
              "\n",
              "  return _uploadFilesContinue(outputId);\n",
              "}\n",
              "\n",
              "// This is roughly an async generator (not supported in the browser yet),\n",
              "// where there are multiple asynchronous steps and the Python side is going\n",
              "// to poll for completion of each step.\n",
              "// This uses a Promise to block the python side on completion of each step,\n",
              "// then passes the result of the previous step as the input to the next step.\n",
              "function _uploadFilesContinue(outputId) {\n",
              "  const outputElement = document.getElementById(outputId);\n",
              "  const steps = outputElement.steps;\n",
              "\n",
              "  const next = steps.next(outputElement.lastPromiseValue);\n",
              "  return Promise.resolve(next.value.promise).then((value) => {\n",
              "    // Cache the last promise value to make it available to the next\n",
              "    // step of the generator.\n",
              "    outputElement.lastPromiseValue = value;\n",
              "    return next.value.response;\n",
              "  });\n",
              "}\n",
              "\n",
              "/**\n",
              " * Generator function which is called between each async step of the upload\n",
              " * process.\n",
              " * @param {string} inputId Element ID of the input file picker element.\n",
              " * @param {string} outputId Element ID of the output display.\n",
              " * @return {!Iterable<!Object>} Iterable of next steps.\n",
              " */\n",
              "function* uploadFilesStep(inputId, outputId) {\n",
              "  const inputElement = document.getElementById(inputId);\n",
              "  inputElement.disabled = false;\n",
              "\n",
              "  const outputElement = document.getElementById(outputId);\n",
              "  outputElement.innerHTML = '';\n",
              "\n",
              "  const pickedPromise = new Promise((resolve) => {\n",
              "    inputElement.addEventListener('change', (e) => {\n",
              "      resolve(e.target.files);\n",
              "    });\n",
              "  });\n",
              "\n",
              "  const cancel = document.createElement('button');\n",
              "  inputElement.parentElement.appendChild(cancel);\n",
              "  cancel.textContent = 'Cancel upload';\n",
              "  const cancelPromise = new Promise((resolve) => {\n",
              "    cancel.onclick = () => {\n",
              "      resolve(null);\n",
              "    };\n",
              "  });\n",
              "\n",
              "  // Wait for the user to pick the files.\n",
              "  const files = yield {\n",
              "    promise: Promise.race([pickedPromise, cancelPromise]),\n",
              "    response: {\n",
              "      action: 'starting',\n",
              "    }\n",
              "  };\n",
              "\n",
              "  cancel.remove();\n",
              "\n",
              "  // Disable the input element since further picks are not allowed.\n",
              "  inputElement.disabled = true;\n",
              "\n",
              "  if (!files) {\n",
              "    return {\n",
              "      response: {\n",
              "        action: 'complete',\n",
              "      }\n",
              "    };\n",
              "  }\n",
              "\n",
              "  for (const file of files) {\n",
              "    const li = document.createElement('li');\n",
              "    li.append(span(file.name, {fontWeight: 'bold'}));\n",
              "    li.append(span(\n",
              "        `(${file.type || 'n/a'}) - ${file.size} bytes, ` +\n",
              "        `last modified: ${\n",
              "            file.lastModifiedDate ? file.lastModifiedDate.toLocaleDateString() :\n",
              "                                    'n/a'} - `));\n",
              "    const percent = span('0% done');\n",
              "    li.appendChild(percent);\n",
              "\n",
              "    outputElement.appendChild(li);\n",
              "\n",
              "    const fileDataPromise = new Promise((resolve) => {\n",
              "      const reader = new FileReader();\n",
              "      reader.onload = (e) => {\n",
              "        resolve(e.target.result);\n",
              "      };\n",
              "      reader.readAsArrayBuffer(file);\n",
              "    });\n",
              "    // Wait for the data to be ready.\n",
              "    let fileData = yield {\n",
              "      promise: fileDataPromise,\n",
              "      response: {\n",
              "        action: 'continue',\n",
              "      }\n",
              "    };\n",
              "\n",
              "    // Use a chunked sending to avoid message size limits. See b/62115660.\n",
              "    let position = 0;\n",
              "    do {\n",
              "      const length = Math.min(fileData.byteLength - position, MAX_PAYLOAD_SIZE);\n",
              "      const chunk = new Uint8Array(fileData, position, length);\n",
              "      position += length;\n",
              "\n",
              "      const base64 = btoa(String.fromCharCode.apply(null, chunk));\n",
              "      yield {\n",
              "        response: {\n",
              "          action: 'append',\n",
              "          file: file.name,\n",
              "          data: base64,\n",
              "        },\n",
              "      };\n",
              "\n",
              "      let percentDone = fileData.byteLength === 0 ?\n",
              "          100 :\n",
              "          Math.round((position / fileData.byteLength) * 100);\n",
              "      percent.textContent = `${percentDone}% done`;\n",
              "\n",
              "    } while (position < fileData.byteLength);\n",
              "  }\n",
              "\n",
              "  // All done.\n",
              "  yield {\n",
              "    response: {\n",
              "      action: 'complete',\n",
              "    }\n",
              "  };\n",
              "}\n",
              "\n",
              "scope.google = scope.google || {};\n",
              "scope.google.colab = scope.google.colab || {};\n",
              "scope.google.colab._files = {\n",
              "  _uploadFiles,\n",
              "  _uploadFilesContinue,\n",
              "};\n",
              "})(self);\n",
              "</script> "
            ]
          },
          "metadata": {}
        },
        {
          "output_type": "stream",
          "name": "stdout",
          "text": [
            "Saving kaggle.json to kaggle (1).json\n",
            "mkdir: cannot create directory ‘/root/.kaggle’: File exists\n",
            "Downloading naive-bayes-classification-data.zip to /content\n",
            "  0% 0.00/2.02k [00:00<?, ?B/s]\n",
            "100% 2.02k/2.02k [00:00<00:00, 1.56MB/s]\n",
            "Archive:  naive-bayes-classification-data.zip\n",
            "  inflating: bitcoin/Naive-Bayes-Classification-Data.csv  \n"
          ]
        }
      ],
      "source": [
        "! pip install -q kaggle\n",
        "from google.colab import files\n",
        "files.upload()\n",
        "! mkdir ~/.kaggle\n",
        "! cp kaggle.json ~/.kaggle/\n",
        "! chmod 600 ~/.kaggle/kaggle.json\n",
        "! kaggle datasets download himanshunakrani/naive-bayes-classification-data\n",
        "! unzip naive-bayes-classification-data.zip -d bitcoin"
      ]
    },
    {
      "cell_type": "code",
      "source": [
        "#import library\n",
        "from math import sqrt\n",
        "import pandas as pd\n",
        "import numpy as np\n",
        "from matplotlib import pyplot\n",
        "from datetime import datetime\n",
        "from sklearn.preprocessing import MinMaxScaler\n",
        "import tensorflow as tf\n",
        "from keras.models import Sequential\n",
        "from keras.layers import Dense\n",
        "from keras.layers import LSTM\n",
        "import plotly.offline as py\n",
        "import plotly.graph_objs as go\n",
        "py.init_notebook_mode(connected=True)\n",
        "%matplotlib inline"
      ],
      "metadata": {
        "id": "DzlErjAslQWc",
        "colab": {
          "base_uri": "https://localhost:8080/",
          "height": 17
        },
        "outputId": "3ad44eca-a28d-44d2-e086-6835ccbd2db1"
      },
      "execution_count": null,
      "outputs": [
        {
          "output_type": "display_data",
          "data": {
            "text/html": [
              "        <script type=\"text/javascript\">\n",
              "        window.PlotlyConfig = {MathJaxConfig: 'local'};\n",
              "        if (window.MathJax) {MathJax.Hub.Config({SVG: {font: \"STIX-Web\"}});}\n",
              "        if (typeof require !== 'undefined') {\n",
              "        require.undef(\"plotly\");\n",
              "        requirejs.config({\n",
              "            paths: {\n",
              "                'plotly': ['https://cdn.plot.ly/plotly-2.8.3.min']\n",
              "            }\n",
              "        });\n",
              "        require(['plotly'], function(Plotly) {\n",
              "            window._Plotly = Plotly;\n",
              "        });\n",
              "        }\n",
              "        </script>\n",
              "        "
            ]
          },
          "metadata": {}
        }
      ]
    },
    {
      "cell_type": "code",
      "source": [
        "#import Dataset\n",
        "df = pd.read_csv(\"/content/bitcoin/Naive-Bayes-Classification-Data.csv\")\n",
        "df"
      ],
      "metadata": {
        "colab": {
          "base_uri": "https://localhost:8080/",
          "height": 424
        },
        "id": "gh-4EZFgwsgi",
        "outputId": "4a215766-11ab-4b40-f0ba-048d2622c24c"
      },
      "execution_count": null,
      "outputs": [
        {
          "output_type": "execute_result",
          "data": {
            "text/plain": [
              "     glucose  bloodpressure  diabetes\n",
              "0         40             85         0\n",
              "1         40             92         0\n",
              "2         45             63         1\n",
              "3         45             80         0\n",
              "4         40             73         1\n",
              "..       ...            ...       ...\n",
              "990       45             87         0\n",
              "991       40             83         0\n",
              "992       40             83         0\n",
              "993       40             60         1\n",
              "994       45             82         0\n",
              "\n",
              "[995 rows x 3 columns]"
            ],
            "text/html": [
              "\n",
              "  <div id=\"df-d2b2b764-7030-4ad1-8076-37cd23ec6fcd\">\n",
              "    <div class=\"colab-df-container\">\n",
              "      <div>\n",
              "<style scoped>\n",
              "    .dataframe tbody tr th:only-of-type {\n",
              "        vertical-align: middle;\n",
              "    }\n",
              "\n",
              "    .dataframe tbody tr th {\n",
              "        vertical-align: top;\n",
              "    }\n",
              "\n",
              "    .dataframe thead th {\n",
              "        text-align: right;\n",
              "    }\n",
              "</style>\n",
              "<table border=\"1\" class=\"dataframe\">\n",
              "  <thead>\n",
              "    <tr style=\"text-align: right;\">\n",
              "      <th></th>\n",
              "      <th>glucose</th>\n",
              "      <th>bloodpressure</th>\n",
              "      <th>diabetes</th>\n",
              "    </tr>\n",
              "  </thead>\n",
              "  <tbody>\n",
              "    <tr>\n",
              "      <th>0</th>\n",
              "      <td>40</td>\n",
              "      <td>85</td>\n",
              "      <td>0</td>\n",
              "    </tr>\n",
              "    <tr>\n",
              "      <th>1</th>\n",
              "      <td>40</td>\n",
              "      <td>92</td>\n",
              "      <td>0</td>\n",
              "    </tr>\n",
              "    <tr>\n",
              "      <th>2</th>\n",
              "      <td>45</td>\n",
              "      <td>63</td>\n",
              "      <td>1</td>\n",
              "    </tr>\n",
              "    <tr>\n",
              "      <th>3</th>\n",
              "      <td>45</td>\n",
              "      <td>80</td>\n",
              "      <td>0</td>\n",
              "    </tr>\n",
              "    <tr>\n",
              "      <th>4</th>\n",
              "      <td>40</td>\n",
              "      <td>73</td>\n",
              "      <td>1</td>\n",
              "    </tr>\n",
              "    <tr>\n",
              "      <th>...</th>\n",
              "      <td>...</td>\n",
              "      <td>...</td>\n",
              "      <td>...</td>\n",
              "    </tr>\n",
              "    <tr>\n",
              "      <th>990</th>\n",
              "      <td>45</td>\n",
              "      <td>87</td>\n",
              "      <td>0</td>\n",
              "    </tr>\n",
              "    <tr>\n",
              "      <th>991</th>\n",
              "      <td>40</td>\n",
              "      <td>83</td>\n",
              "      <td>0</td>\n",
              "    </tr>\n",
              "    <tr>\n",
              "      <th>992</th>\n",
              "      <td>40</td>\n",
              "      <td>83</td>\n",
              "      <td>0</td>\n",
              "    </tr>\n",
              "    <tr>\n",
              "      <th>993</th>\n",
              "      <td>40</td>\n",
              "      <td>60</td>\n",
              "      <td>1</td>\n",
              "    </tr>\n",
              "    <tr>\n",
              "      <th>994</th>\n",
              "      <td>45</td>\n",
              "      <td>82</td>\n",
              "      <td>0</td>\n",
              "    </tr>\n",
              "  </tbody>\n",
              "</table>\n",
              "<p>995 rows × 3 columns</p>\n",
              "</div>\n",
              "      <button class=\"colab-df-convert\" onclick=\"convertToInteractive('df-d2b2b764-7030-4ad1-8076-37cd23ec6fcd')\"\n",
              "              title=\"Convert this dataframe to an interactive table.\"\n",
              "              style=\"display:none;\">\n",
              "        \n",
              "  <svg xmlns=\"http://www.w3.org/2000/svg\" height=\"24px\"viewBox=\"0 0 24 24\"\n",
              "       width=\"24px\">\n",
              "    <path d=\"M0 0h24v24H0V0z\" fill=\"none\"/>\n",
              "    <path d=\"M18.56 5.44l.94 2.06.94-2.06 2.06-.94-2.06-.94-.94-2.06-.94 2.06-2.06.94zm-11 1L8.5 8.5l.94-2.06 2.06-.94-2.06-.94L8.5 2.5l-.94 2.06-2.06.94zm10 10l.94 2.06.94-2.06 2.06-.94-2.06-.94-.94-2.06-.94 2.06-2.06.94z\"/><path d=\"M17.41 7.96l-1.37-1.37c-.4-.4-.92-.59-1.43-.59-.52 0-1.04.2-1.43.59L10.3 9.45l-7.72 7.72c-.78.78-.78 2.05 0 2.83L4 21.41c.39.39.9.59 1.41.59.51 0 1.02-.2 1.41-.59l7.78-7.78 2.81-2.81c.8-.78.8-2.07 0-2.86zM5.41 20L4 18.59l7.72-7.72 1.47 1.35L5.41 20z\"/>\n",
              "  </svg>\n",
              "      </button>\n",
              "      \n",
              "  <style>\n",
              "    .colab-df-container {\n",
              "      display:flex;\n",
              "      flex-wrap:wrap;\n",
              "      gap: 12px;\n",
              "    }\n",
              "\n",
              "    .colab-df-convert {\n",
              "      background-color: #E8F0FE;\n",
              "      border: none;\n",
              "      border-radius: 50%;\n",
              "      cursor: pointer;\n",
              "      display: none;\n",
              "      fill: #1967D2;\n",
              "      height: 32px;\n",
              "      padding: 0 0 0 0;\n",
              "      width: 32px;\n",
              "    }\n",
              "\n",
              "    .colab-df-convert:hover {\n",
              "      background-color: #E2EBFA;\n",
              "      box-shadow: 0px 1px 2px rgba(60, 64, 67, 0.3), 0px 1px 3px 1px rgba(60, 64, 67, 0.15);\n",
              "      fill: #174EA6;\n",
              "    }\n",
              "\n",
              "    [theme=dark] .colab-df-convert {\n",
              "      background-color: #3B4455;\n",
              "      fill: #D2E3FC;\n",
              "    }\n",
              "\n",
              "    [theme=dark] .colab-df-convert:hover {\n",
              "      background-color: #434B5C;\n",
              "      box-shadow: 0px 1px 3px 1px rgba(0, 0, 0, 0.15);\n",
              "      filter: drop-shadow(0px 1px 2px rgba(0, 0, 0, 0.3));\n",
              "      fill: #FFFFFF;\n",
              "    }\n",
              "  </style>\n",
              "\n",
              "      <script>\n",
              "        const buttonEl =\n",
              "          document.querySelector('#df-d2b2b764-7030-4ad1-8076-37cd23ec6fcd button.colab-df-convert');\n",
              "        buttonEl.style.display =\n",
              "          google.colab.kernel.accessAllowed ? 'block' : 'none';\n",
              "\n",
              "        async function convertToInteractive(key) {\n",
              "          const element = document.querySelector('#df-d2b2b764-7030-4ad1-8076-37cd23ec6fcd');\n",
              "          const dataTable =\n",
              "            await google.colab.kernel.invokeFunction('convertToInteractive',\n",
              "                                                     [key], {});\n",
              "          if (!dataTable) return;\n",
              "\n",
              "          const docLinkHtml = 'Like what you see? Visit the ' +\n",
              "            '<a target=\"_blank\" href=https://colab.research.google.com/notebooks/data_table.ipynb>data table notebook</a>'\n",
              "            + ' to learn more about interactive tables.';\n",
              "          element.innerHTML = '';\n",
              "          dataTable['output_type'] = 'display_data';\n",
              "          await google.colab.output.renderOutput(dataTable, element);\n",
              "          const docLink = document.createElement('div');\n",
              "          docLink.innerHTML = docLinkHtml;\n",
              "          element.appendChild(docLink);\n",
              "        }\n",
              "      </script>\n",
              "    </div>\n",
              "  </div>\n",
              "  "
            ]
          },
          "metadata": {},
          "execution_count": 6
        }
      ]
    },
    {
      "cell_type": "code",
      "source": [
        "pyplot.scatter(df.glucose,df.bloodpressure)"
      ],
      "metadata": {
        "colab": {
          "base_uri": "https://localhost:8080/",
          "height": 282
        },
        "id": "U4eWS0iTHI7Z",
        "outputId": "57ebf4b9-7b39-43da-d3ce-76d463f32ceb"
      },
      "execution_count": null,
      "outputs": [
        {
          "output_type": "execute_result",
          "data": {
            "text/plain": [
              "<matplotlib.collections.PathCollection at 0x7f1f28562760>"
            ]
          },
          "metadata": {},
          "execution_count": 8
        },
        {
          "output_type": "display_data",
          "data": {
            "text/plain": [
              "<Figure size 432x288 with 1 Axes>"
            ],
            "image/png": "[encoded data removed]"
          },
          "metadata": {
            "needs_background": "light"
          }
        }
      ]
    },
    {
      "cell_type": "code",
      "source": [
        "#melihat dimensi dataset\n",
        "df.shape"
      ],
      "metadata": {
        "colab": {
          "base_uri": "https://localhost:8080/"
        },
        "id": "OT2wxvgMlQcf",
        "outputId": "6654580f-616c-4f35-cc1c-33459a265478"
      },
      "execution_count": null,
      "outputs": [
        {
          "output_type": "execute_result",
          "data": {
            "text/plain": [
              "(1380, 7)"
            ]
          },
          "metadata": {},
          "execution_count": 4
        }
      ]
    },
    {
      "cell_type": "code",
      "source": [
        "#melihat informasi yang ada pada dataset\n",
        "df.info()"
      ],
      "metadata": {
        "colab": {
          "base_uri": "https://localhost:8080/"
        },
        "id": "LGr06mJPYdxS",
        "outputId": "c7bfa206-cd4c-4d9f-a1d1-ef85c56eeed7"
      },
      "execution_count": null,
      "outputs": [
        {
          "output_type": "stream",
          "name": "stdout",
          "text": [
            "<class 'pandas.core.frame.DataFrame'>\n",
            "Index: 1380 entries, 2014-01-07 to 2017-10-17\n",
            "Data columns (total 7 columns):\n",
            " #   Column             Non-Null Count  Dtype  \n",
            "---  ------             --------------  -----  \n",
            " 0   Open               1380 non-null   float64\n",
            " 1   High               1380 non-null   float64\n",
            " 2   Low                1380 non-null   float64\n",
            " 3   Close              1380 non-null   float64\n",
            " 4   Volume (BTC)       1380 non-null   float64\n",
            " 5   Volume (Currency)  1380 non-null   float64\n",
            " 6   Weighted Price     1380 non-null   float64\n",
            "dtypes: float64(7)\n",
            "memory usage: 86.2+ KB\n"
          ]
        }
      ]
    },
    {
      "cell_type": "code",
      "source": [
        "#mengecek data null pada dataset\n",
        "df.isnull().sum()"
      ],
      "metadata": {
        "colab": {
          "base_uri": "https://localhost:8080/"
        },
        "id": "abRF-F8jYhoq",
        "outputId": "9005d396-1057-444a-ede7-b45125f4feb6"
      },
      "execution_count": null,
      "outputs": [
        {
          "output_type": "execute_result",
          "data": {
            "text/plain": [
              "Open                 0\n",
              "High                 0\n",
              "Low                  0\n",
              "Close                0\n",
              "Volume (BTC)         0\n",
              "Volume (Currency)    0\n",
              "Weighted Price       0\n",
              "dtype: int64"
            ]
          },
          "metadata": {},
          "execution_count": 6
        }
      ]
    },
    {
      "cell_type": "markdown",
      "source": [
        "##Visualisasi"
      ],
      "metadata": {
        "id": "NJ4TWmC4aMMc"
      }
    },
    {
      "cell_type": "code",
      "source": [
        "pyplot.figure(figsize=(20,8))\n",
        "pyplot.plot(df['Weighted Price'])\n",
        "pyplot.title('Bitcoin Price')\n",
        "pyplot.xlabel('Date')\n",
        "pyplot.ylabel('Weighted Price')\n",
        "pyplot.show()"
      ],
      "metadata": {
        "colab": {
          "base_uri": "https://localhost:8080/",
          "height": 513
        },
        "id": "t4WskAsiaOpV",
        "outputId": "9fa2c0ae-5ed4-43e7-a57b-dbebe0e2b0be"
      },
      "execution_count": null,
      "outputs": [
        {
          "output_type": "display_data",
          "data": {
            "text/plain": [
              "<Figure size 1440x576 with 1 Axes>"
            ],
            "image/png": "[encoded data removed]"
          },
          "metadata": {
            "needs_background": "light"
          }
        }
      ]
    },
    {
      "cell_type": "code",
      "source": [
        "#normalisasi data wighted price menggunakan MinMaxScaler dengan range 0 sampai 1\n",
        "values = df['Weighted Price'].values.reshape(-1,1)\n",
        "values = values.astype('float32')\n",
        "scaler = MinMaxScaler(feature_range=(0, 1))\n",
        "scaled = scaler.fit_transform(values)\n",
        "scaled"
      ],
      "metadata": {
        "colab": {
          "base_uri": "https://localhost:8080/"
        },
        "id": "e77FT-yZPR6E",
        "outputId": "2aa03f16-10c8-4ea7-b4b6-20467c8137f0"
      },
      "execution_count": null,
      "outputs": [
        {
          "output_type": "execute_result",
          "data": {
            "text/plain": [
              "array([[0.14787643],\n",
              "       [0.14740579],\n",
              "       [0.14607371],\n",
              "       ...,\n",
              "       [0.9855866 ],\n",
              "       [0.9967225 ],\n",
              "       [0.9883252 ]], dtype=float32)"
            ]
          },
          "metadata": {},
          "execution_count": 11
        }
      ]
    },
    {
      "cell_type": "code",
      "source": [
        "#membagi dataset untuk validation set 20%\n",
        "train_size = int(len(scaled) * 0.8)\n",
        "test_size = len(scaled) - train_size\n",
        "train, test = scaled[0:train_size,:], scaled[train_size:len(scaled),:]\n",
        "print(len(train), len(test))"
      ],
      "metadata": {
        "colab": {
          "base_uri": "https://localhost:8080/"
        },
        "id": "VIkmW223PSDq",
        "outputId": "eb9e5782-b113-4ce5-cc94-b59a6be3f001"
      },
      "execution_count": null,
      "outputs": [
        {
          "output_type": "stream",
          "name": "stdout",
          "text": [
            "1104 276\n"
          ]
        }
      ]
    },
    {
      "cell_type": "code",
      "source": [
        "#fungsi membuat dataset dengan look back\n",
        "def create_dataset(dataset, look_back=1):\n",
        "    dataX, dataY = [], []\n",
        "    for i in range(len(dataset) - look_back):\n",
        "        a = dataset[i:(i + look_back), 0]\n",
        "        dataX.append(a)\n",
        "        dataY.append(dataset[i + look_back, 0])\n",
        "    print(len(dataY))\n",
        "    return np.array(dataX), np.array(dataY)"
      ],
      "metadata": {
        "id": "kn4SJtg8QU4F"
      },
      "execution_count": null,
      "outputs": []
    },
    {
      "cell_type": "code",
      "source": [
        "#membuat dataset menjadi trainX, trainY, testX, testY\n",
        "look_back = 1\n",
        "trainX, trainY = create_dataset(train, look_back)\n",
        "testX, testY = create_dataset(test, look_back)"
      ],
      "metadata": {
        "colab": {
          "base_uri": "https://localhost:8080/"
        },
        "id": "UXrDOTO_QU7a",
        "outputId": "c801d70f-fff3-43d8-e44e-4ebabb243e97"
      },
      "execution_count": null,
      "outputs": [
        {
          "output_type": "stream",
          "name": "stdout",
          "text": [
            "1103\n",
            "275\n"
          ]
        }
      ]
    },
    {
      "cell_type": "code",
      "source": [
        "#reshape X untuk model training\n",
        "trainX = np.reshape(trainX, (trainX.shape[0], 1, trainX.shape[1]))\n",
        "testX = np.reshape(testX, (testX.shape[0], 1, testX.shape[1]))"
      ],
      "metadata": {
        "id": "IgRlHd3hQVDG"
      },
      "execution_count": null,
      "outputs": []
    },
    {
      "cell_type": "code",
      "source": [
        "# model LSTM\n",
        "model = Sequential()\n",
        "model.add(LSTM(64))\n",
        "model.add(Dense(1))\n",
        "\n",
        "from keras.optimizers import SGD\n",
        "opt = SGD(lr=0.1, momentum=0.7)\n",
        "model.compile(loss=tf.keras.losses.Huber(),\n",
        "              optimizer=opt,\n",
        "              metrics=[\"mae\"])"
      ],
      "metadata": {
        "colab": {
          "base_uri": "https://localhost:8080/"
        },
        "id": "iTfSP1p0e5os",
        "outputId": "14dc8f21-6086-44ac-c0f3-9e6abe5b74ea"
      },
      "execution_count": null,
      "outputs": [
        {
          "output_type": "stream",
          "name": "stderr",
          "text": [
            "/usr/local/lib/python3.7/dist-packages/keras/optimizers/optimizer_v2/gradient_descent.py:108: UserWarning:\n",
            "\n",
            "The `lr` argument is deprecated, use `learning_rate` instead.\n",
            "\n"
          ]
        }
      ]
    },
    {
      "cell_type": "code",
      "source": [
        "#model training\n",
        "history = model.fit(trainX, trainY, epochs=100, batch_size=100, \n",
        "                    validation_data=(testX, testY), verbose=1)"
      ],
      "metadata": {
        "id": "H27UBrQyRQQO",
        "colab": {
          "base_uri": "https://localhost:8080/"
        },
        "outputId": "f2691276-8eea-4952-d412-6557d4df3af9"
      },
      "execution_count": null,
      "outputs": [
        {
          "output_type": "stream",
          "name": "stdout",
          "text": [
            "Epoch 1/100\n",
            "12/12 [==============================] - 3s 52ms/step - loss: 0.0014 - mae: 0.0421 - val_loss: 0.0769 - val_mae: 0.3220\n",
            "Epoch 2/100\n",
            "12/12 [==============================] - 0s 7ms/step - loss: 6.3440e-04 - mae: 0.0294 - val_loss: 0.0803 - val_mae: 0.3325\n",
            "Epoch 3/100\n",
            "12/12 [==============================] - 0s 6ms/step - loss: 6.2149e-04 - mae: 0.0289 - val_loss: 0.0798 - val_mae: 0.3312\n",
            "Epoch 4/100\n",
            "12/12 [==============================] - 0s 6ms/step - loss: 6.2161e-04 - mae: 0.0290 - val_loss: 0.0797 - val_mae: 0.3309\n",
            "Epoch 5/100\n",
            "12/12 [==============================] - 0s 7ms/step - loss: 6.1953e-04 - mae: 0.0289 - val_loss: 0.0802 - val_mae: 0.3327\n",
            "Epoch 6/100\n",
            "12/12 [==============================] - 0s 6ms/step - loss: 6.2192e-04 - mae: 0.0288 - val_loss: 0.0789 - val_mae: 0.3288\n",
            "Epoch 7/100\n",
            "12/12 [==============================] - 0s 6ms/step - loss: 6.1907e-04 - mae: 0.0289 - val_loss: 0.0797 - val_mae: 0.3313\n",
            "Epoch 8/100\n",
            "12/12 [==============================] - 0s 6ms/step - loss: 6.1813e-04 - mae: 0.0289 - val_loss: 0.0798 - val_mae: 0.3316\n",
            "Epoch 9/100\n",
            "12/12 [==============================] - 0s 7ms/step - loss: 6.1643e-04 - mae: 0.0288 - val_loss: 0.0780 - val_mae: 0.3263\n",
            "Epoch 10/100\n",
            "12/12 [==============================] - 0s 6ms/step - loss: 6.2312e-04 - mae: 0.0293 - val_loss: 0.0788 - val_mae: 0.3289\n",
            "Epoch 11/100\n",
            "12/12 [==============================] - 0s 7ms/step - loss: 6.1630e-04 - mae: 0.0289 - val_loss: 0.0795 - val_mae: 0.3312\n",
            "Epoch 12/100\n",
            "12/12 [==============================] - 0s 7ms/step - loss: 6.1748e-04 - mae: 0.0289 - val_loss: 0.0798 - val_mae: 0.3323\n",
            "Epoch 13/100\n",
            "12/12 [==============================] - 0s 6ms/step - loss: 6.2568e-04 - mae: 0.0290 - val_loss: 0.0782 - val_mae: 0.3274\n",
            "Epoch 14/100\n",
            "12/12 [==============================] - 0s 6ms/step - loss: 6.1264e-04 - mae: 0.0288 - val_loss: 0.0780 - val_mae: 0.3269\n",
            "Epoch 15/100\n",
            "12/12 [==============================] - 0s 7ms/step - loss: 6.1193e-04 - mae: 0.0289 - val_loss: 0.0799 - val_mae: 0.3330\n",
            "Epoch 16/100\n",
            "12/12 [==============================] - 0s 6ms/step - loss: 6.1859e-04 - mae: 0.0287 - val_loss: 0.0768 - val_mae: 0.3234\n",
            "Epoch 17/100\n",
            "12/12 [==============================] - 0s 7ms/step - loss: 6.2154e-04 - mae: 0.0293 - val_loss: 0.0778 - val_mae: 0.3266\n",
            "Epoch 18/100\n",
            "12/12 [==============================] - 0s 6ms/step - loss: 6.1138e-04 - mae: 0.0289 - val_loss: 0.0807 - val_mae: 0.3355\n",
            "Epoch 19/100\n",
            "12/12 [==============================] - 0s 6ms/step - loss: 6.4119e-04 - mae: 0.0290 - val_loss: 0.0777 - val_mae: 0.3266\n",
            "Epoch 20/100\n",
            "12/12 [==============================] - 0s 6ms/step - loss: 6.0701e-04 - mae: 0.0286 - val_loss: 0.0774 - val_mae: 0.3258\n",
            "Epoch 21/100\n",
            "12/12 [==============================] - 0s 8ms/step - loss: 6.0493e-04 - mae: 0.0286 - val_loss: 0.0764 - val_mae: 0.3227\n",
            "Epoch 22/100\n",
            "12/12 [==============================] - 0s 7ms/step - loss: 6.1414e-04 - mae: 0.0290 - val_loss: 0.0791 - val_mae: 0.3312\n",
            "Epoch 23/100\n",
            "12/12 [==============================] - 0s 6ms/step - loss: 6.1882e-04 - mae: 0.0287 - val_loss: 0.0771 - val_mae: 0.3251\n",
            "Epoch 24/100\n",
            "12/12 [==============================] - 0s 7ms/step - loss: 6.0149e-04 - mae: 0.0285 - val_loss: 0.0783 - val_mae: 0.3291\n",
            "Epoch 25/100\n",
            "12/12 [==============================] - 0s 6ms/step - loss: 6.0739e-04 - mae: 0.0286 - val_loss: 0.0775 - val_mae: 0.3266\n",
            "Epoch 26/100\n",
            "12/12 [==============================] - 0s 7ms/step - loss: 6.0157e-04 - mae: 0.0284 - val_loss: 0.0764 - val_mae: 0.3234\n",
            "Epoch 27/100\n",
            "12/12 [==============================] - 0s 6ms/step - loss: 6.0059e-04 - mae: 0.0286 - val_loss: 0.0775 - val_mae: 0.3271\n",
            "Epoch 28/100\n",
            "12/12 [==============================] - 0s 6ms/step - loss: 5.9894e-04 - mae: 0.0283 - val_loss: 0.0768 - val_mae: 0.3250\n",
            "Epoch 29/100\n",
            "12/12 [==============================] - 0s 10ms/step - loss: 5.9749e-04 - mae: 0.0284 - val_loss: 0.0765 - val_mae: 0.3241\n",
            "Epoch 30/100\n",
            "12/12 [==============================] - 0s 6ms/step - loss: 5.9677e-04 - mae: 0.0284 - val_loss: 0.0768 - val_mae: 0.3250\n",
            "Epoch 31/100\n",
            "12/12 [==============================] - 0s 5ms/step - loss: 5.9565e-04 - mae: 0.0283 - val_loss: 0.0764 - val_mae: 0.3239\n",
            "Epoch 32/100\n",
            "12/12 [==============================] - 0s 6ms/step - loss: 5.9465e-04 - mae: 0.0284 - val_loss: 0.0762 - val_mae: 0.3235\n",
            "Epoch 33/100\n",
            "12/12 [==============================] - 0s 6ms/step - loss: 5.9401e-04 - mae: 0.0283 - val_loss: 0.0754 - val_mae: 0.3212\n",
            "Epoch 34/100\n",
            "12/12 [==============================] - 0s 6ms/step - loss: 5.9683e-04 - mae: 0.0286 - val_loss: 0.0763 - val_mae: 0.3241\n",
            "Epoch 35/100\n",
            "12/12 [==============================] - 0s 7ms/step - loss: 5.9099e-04 - mae: 0.0282 - val_loss: 0.0763 - val_mae: 0.3241\n",
            "Epoch 36/100\n",
            "12/12 [==============================] - 0s 6ms/step - loss: 5.9122e-04 - mae: 0.0281 - val_loss: 0.0769 - val_mae: 0.3261\n",
            "Epoch 37/100\n",
            "12/12 [==============================] - 0s 8ms/step - loss: 5.9830e-04 - mae: 0.0283 - val_loss: 0.0762 - val_mae: 0.3241\n",
            "Epoch 38/100\n",
            "12/12 [==============================] - 0s 6ms/step - loss: 5.9074e-04 - mae: 0.0281 - val_loss: 0.0757 - val_mae: 0.3228\n",
            "Epoch 39/100\n",
            "12/12 [==============================] - 0s 6ms/step - loss: 5.9030e-04 - mae: 0.0282 - val_loss: 0.0755 - val_mae: 0.3222\n",
            "Epoch 40/100\n",
            "12/12 [==============================] - 0s 5ms/step - loss: 5.8985e-04 - mae: 0.0281 - val_loss: 0.0748 - val_mae: 0.3201\n",
            "Epoch 41/100\n",
            "12/12 [==============================] - 0s 6ms/step - loss: 5.8560e-04 - mae: 0.0281 - val_loss: 0.0744 - val_mae: 0.3191\n",
            "Epoch 42/100\n",
            "12/12 [==============================] - 0s 6ms/step - loss: 5.8732e-04 - mae: 0.0284 - val_loss: 0.0746 - val_mae: 0.3198\n",
            "Epoch 43/100\n",
            "12/12 [==============================] - 0s 6ms/step - loss: 5.8777e-04 - mae: 0.0283 - val_loss: 0.0753 - val_mae: 0.3221\n",
            "Epoch 44/100\n",
            "12/12 [==============================] - 0s 6ms/step - loss: 5.8364e-04 - mae: 0.0280 - val_loss: 0.0753 - val_mae: 0.3223\n",
            "Epoch 45/100\n",
            "12/12 [==============================] - 0s 9ms/step - loss: 5.8700e-04 - mae: 0.0280 - val_loss: 0.0737 - val_mae: 0.3173\n",
            "Epoch 46/100\n",
            "12/12 [==============================] - 0s 7ms/step - loss: 5.8918e-04 - mae: 0.0284 - val_loss: 0.0757 - val_mae: 0.3237\n",
            "Epoch 47/100\n",
            "12/12 [==============================] - 0s 7ms/step - loss: 5.8656e-04 - mae: 0.0280 - val_loss: 0.0762 - val_mae: 0.3253\n",
            "Epoch 48/100\n",
            "12/12 [==============================] - 0s 6ms/step - loss: 5.9918e-04 - mae: 0.0282 - val_loss: 0.0748 - val_mae: 0.3211\n",
            "Epoch 49/100\n",
            "12/12 [==============================] - 0s 7ms/step - loss: 5.8243e-04 - mae: 0.0278 - val_loss: 0.0735 - val_mae: 0.3172\n",
            "Epoch 50/100\n",
            "12/12 [==============================] - 0s 6ms/step - loss: 5.7831e-04 - mae: 0.0280 - val_loss: 0.0755 - val_mae: 0.3236\n",
            "Epoch 51/100\n",
            "12/12 [==============================] - 0s 7ms/step - loss: 5.8787e-04 - mae: 0.0279 - val_loss: 0.0740 - val_mae: 0.3190\n",
            "Epoch 52/100\n",
            "12/12 [==============================] - 0s 7ms/step - loss: 5.7595e-04 - mae: 0.0278 - val_loss: 0.0741 - val_mae: 0.3194\n",
            "Epoch 53/100\n",
            "12/12 [==============================] - 0s 6ms/step - loss: 5.7464e-04 - mae: 0.0278 - val_loss: 0.0735 - val_mae: 0.3178\n",
            "Epoch 54/100\n",
            "12/12 [==============================] - 0s 6ms/step - loss: 5.7437e-04 - mae: 0.0278 - val_loss: 0.0728 - val_mae: 0.3155\n",
            "Epoch 55/100\n",
            "12/12 [==============================] - 0s 6ms/step - loss: 5.7405e-04 - mae: 0.0280 - val_loss: 0.0735 - val_mae: 0.3179\n",
            "Epoch 56/100\n",
            "12/12 [==============================] - 0s 5ms/step - loss: 5.7238e-04 - mae: 0.0278 - val_loss: 0.0743 - val_mae: 0.3205\n",
            "Epoch 57/100\n",
            "12/12 [==============================] - 0s 8ms/step - loss: 5.7528e-04 - mae: 0.0276 - val_loss: 0.0724 - val_mae: 0.3146\n",
            "Epoch 58/100\n",
            "12/12 [==============================] - 0s 6ms/step - loss: 5.7233e-04 - mae: 0.0279 - val_loss: 0.0754 - val_mae: 0.3242\n",
            "Epoch 59/100\n",
            "12/12 [==============================] - 0s 6ms/step - loss: 5.9909e-04 - mae: 0.0281 - val_loss: 0.0717 - val_mae: 0.3126\n",
            "Epoch 60/100\n",
            "12/12 [==============================] - 0s 8ms/step - loss: 5.7309e-04 - mae: 0.0279 - val_loss: 0.0716 - val_mae: 0.3125\n",
            "Epoch 61/100\n",
            "12/12 [==============================] - 0s 7ms/step - loss: 5.8162e-04 - mae: 0.0284 - val_loss: 0.0742 - val_mae: 0.3208\n",
            "Epoch 62/100\n",
            "12/12 [==============================] - 0s 6ms/step - loss: 5.7738e-04 - mae: 0.0276 - val_loss: 0.0721 - val_mae: 0.3143\n",
            "Epoch 63/100\n",
            "12/12 [==============================] - 0s 6ms/step - loss: 5.6945e-04 - mae: 0.0277 - val_loss: 0.0723 - val_mae: 0.3151\n",
            "Epoch 64/100\n",
            "12/12 [==============================] - 0s 6ms/step - loss: 5.6425e-04 - mae: 0.0276 - val_loss: 0.0729 - val_mae: 0.3170\n",
            "Epoch 65/100\n",
            "12/12 [==============================] - 0s 6ms/step - loss: 5.6433e-04 - mae: 0.0275 - val_loss: 0.0730 - val_mae: 0.3175\n",
            "Epoch 66/100\n",
            "12/12 [==============================] - 0s 6ms/step - loss: 5.6583e-04 - mae: 0.0275 - val_loss: 0.0716 - val_mae: 0.3131\n",
            "Epoch 67/100\n",
            "12/12 [==============================] - 0s 6ms/step - loss: 5.6411e-04 - mae: 0.0278 - val_loss: 0.0728 - val_mae: 0.3172\n",
            "Epoch 68/100\n",
            "12/12 [==============================] - 0s 7ms/step - loss: 5.6111e-04 - mae: 0.0274 - val_loss: 0.0708 - val_mae: 0.3108\n",
            "Epoch 69/100\n",
            "12/12 [==============================] - 0s 6ms/step - loss: 5.6480e-04 - mae: 0.0278 - val_loss: 0.0729 - val_mae: 0.3175\n",
            "Epoch 70/100\n",
            "12/12 [==============================] - 0s 7ms/step - loss: 5.6544e-04 - mae: 0.0274 - val_loss: 0.0716 - val_mae: 0.3138\n",
            "Epoch 71/100\n",
            "12/12 [==============================] - 0s 6ms/step - loss: 5.6080e-04 - mae: 0.0274 - val_loss: 0.0702 - val_mae: 0.3092\n",
            "Epoch 72/100\n",
            "12/12 [==============================] - 0s 6ms/step - loss: 5.6392e-04 - mae: 0.0278 - val_loss: 0.0718 - val_mae: 0.3146\n",
            "Epoch 73/100\n",
            "12/12 [==============================] - 0s 6ms/step - loss: 5.5664e-04 - mae: 0.0274 - val_loss: 0.0708 - val_mae: 0.3115\n",
            "Epoch 74/100\n",
            "12/12 [==============================] - 0s 6ms/step - loss: 5.5581e-04 - mae: 0.0274 - val_loss: 0.0719 - val_mae: 0.3152\n",
            "Epoch 75/100\n",
            "12/12 [==============================] - 0s 6ms/step - loss: 5.6320e-04 - mae: 0.0274 - val_loss: 0.0700 - val_mae: 0.3091\n",
            "Epoch 76/100\n",
            "12/12 [==============================] - 0s 6ms/step - loss: 5.5742e-04 - mae: 0.0275 - val_loss: 0.0706 - val_mae: 0.3113\n",
            "Epoch 77/100\n",
            "12/12 [==============================] - 0s 6ms/step - loss: 5.5416e-04 - mae: 0.0273 - val_loss: 0.0701 - val_mae: 0.3097\n",
            "Epoch 78/100\n",
            "12/12 [==============================] - 0s 6ms/step - loss: 5.5322e-04 - mae: 0.0274 - val_loss: 0.0713 - val_mae: 0.3135\n",
            "Epoch 79/100\n",
            "12/12 [==============================] - 0s 6ms/step - loss: 5.5334e-04 - mae: 0.0272 - val_loss: 0.0701 - val_mae: 0.3098\n",
            "Epoch 80/100\n",
            "12/12 [==============================] - 0s 6ms/step - loss: 5.5202e-04 - mae: 0.0273 - val_loss: 0.0688 - val_mae: 0.3059\n",
            "Epoch 81/100\n",
            "12/12 [==============================] - 0s 7ms/step - loss: 5.6300e-04 - mae: 0.0279 - val_loss: 0.0705 - val_mae: 0.3115\n",
            "Epoch 82/100\n",
            "12/12 [==============================] - 0s 7ms/step - loss: 5.4885e-04 - mae: 0.0273 - val_loss: 0.0719 - val_mae: 0.3161\n",
            "Epoch 83/100\n",
            "12/12 [==============================] - 0s 6ms/step - loss: 5.6682e-04 - mae: 0.0274 - val_loss: 0.0691 - val_mae: 0.3072\n",
            "Epoch 84/100\n",
            "12/12 [==============================] - 0s 6ms/step - loss: 5.5074e-04 - mae: 0.0274 - val_loss: 0.0704 - val_mae: 0.3115\n",
            "Epoch 85/100\n",
            "12/12 [==============================] - 0s 8ms/step - loss: 5.4730e-04 - mae: 0.0271 - val_loss: 0.0697 - val_mae: 0.3093\n",
            "Epoch 86/100\n",
            "12/12 [==============================] - 0s 6ms/step - loss: 5.4631e-04 - mae: 0.0271 - val_loss: 0.0702 - val_mae: 0.3111\n",
            "Epoch 87/100\n",
            "12/12 [==============================] - 0s 7ms/step - loss: 5.4505e-04 - mae: 0.0270 - val_loss: 0.0696 - val_mae: 0.3092\n",
            "Epoch 88/100\n",
            "12/12 [==============================] - 0s 8ms/step - loss: 5.4332e-04 - mae: 0.0270 - val_loss: 0.0682 - val_mae: 0.3048\n",
            "Epoch 89/100\n",
            "12/12 [==============================] - 0s 7ms/step - loss: 5.5245e-04 - mae: 0.0276 - val_loss: 0.0706 - val_mae: 0.3126\n",
            "Epoch 90/100\n",
            "12/12 [==============================] - 0s 6ms/step - loss: 5.4632e-04 - mae: 0.0269 - val_loss: 0.0688 - val_mae: 0.3068\n",
            "Epoch 91/100\n",
            "12/12 [==============================] - 0s 8ms/step - loss: 5.4088e-04 - mae: 0.0270 - val_loss: 0.0699 - val_mae: 0.3106\n",
            "Epoch 92/100\n",
            "12/12 [==============================] - 0s 6ms/step - loss: 5.4430e-04 - mae: 0.0270 - val_loss: 0.0695 - val_mae: 0.3096\n",
            "Epoch 93/100\n",
            "12/12 [==============================] - 0s 9ms/step - loss: 5.4221e-04 - mae: 0.0269 - val_loss: 0.0699 - val_mae: 0.3108\n",
            "Epoch 94/100\n",
            "12/12 [==============================] - 0s 8ms/step - loss: 5.4462e-04 - mae: 0.0269 - val_loss: 0.0685 - val_mae: 0.3065\n",
            "Epoch 95/100\n",
            "12/12 [==============================] - 0s 6ms/step - loss: 5.3761e-04 - mae: 0.0269 - val_loss: 0.0683 - val_mae: 0.3061\n",
            "Epoch 96/100\n",
            "12/12 [==============================] - 0s 7ms/step - loss: 5.3640e-04 - mae: 0.0270 - val_loss: 0.0685 - val_mae: 0.3066\n",
            "Epoch 97/100\n",
            "12/12 [==============================] - 0s 8ms/step - loss: 5.3600e-04 - mae: 0.0269 - val_loss: 0.0677 - val_mae: 0.3043\n",
            "Epoch 98/100\n",
            "12/12 [==============================] - 0s 6ms/step - loss: 5.3925e-04 - mae: 0.0271 - val_loss: 0.0687 - val_mae: 0.3076\n",
            "Epoch 99/100\n",
            "12/12 [==============================] - 0s 6ms/step - loss: 5.3687e-04 - mae: 0.0269 - val_loss: 0.0683 - val_mae: 0.3065\n",
            "Epoch 100/100\n",
            "12/12 [==============================] - 0s 6ms/step - loss: 5.3338e-04 - mae: 0.0268 - val_loss: 0.0679 - val_mae: 0.3054\n"
          ]
        }
      ]
    }
  ]
}